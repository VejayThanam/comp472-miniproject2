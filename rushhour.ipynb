{
 "cells": [
  {
   "cell_type": "code",
   "execution_count": 68,
   "metadata": {},
   "outputs": [
    {
     "name": "stdout",
     "output_type": "stream",
     "text": [
      "Initial board configuration: BBIJ....IJCC..IAAMGDDK.MGH.KL.GHFFL.\n",
      "\n",
      "B B I J . .\n",
      ". . I J C C\n",
      ". . I A A M\n",
      "G D D K . M\n",
      "G H . K L .\n",
      "G H F F L .\n",
      "\n",
      "\n",
      "Car fuel available: \n",
      "\n",
      "Characters with their length:\n",
      " {'B': 2, 'I': 3, 'J': 2, 'C': 2, 'A': 2, 'M': 2, 'G': 3, 'D': 2, 'K': 2, 'H': 2, 'L': 2, 'F': 2}\n"
     ]
    },
    {
     "ename": "IndexError",
     "evalue": "list index out of range",
     "output_type": "error",
     "traceback": [
      "\u001b[1;31m---------------------------------------------------------------------------\u001b[0m",
      "\u001b[1;31mIndexError\u001b[0m                                Traceback (most recent call last)",
      "Cell \u001b[1;32mIn [68], line 47\u001b[0m\n\u001b[0;32m     45\u001b[0m i\u001b[39m=\u001b[39m\u001b[39m5\u001b[39m\n\u001b[0;32m     46\u001b[0m j\u001b[39m=\u001b[39m\u001b[39m5\u001b[39m\n\u001b[1;32m---> 47\u001b[0m \u001b[39mif\u001b[39;00m grid[i][j]\u001b[39m==\u001b[39mgrid[i][j\u001b[39m+\u001b[39m\u001b[39m1\u001b[39m] \u001b[39mor\u001b[39;00m grid[i][j]\u001b[39m==\u001b[39mgrid[i][j\u001b[39m-\u001b[39m\u001b[39m1\u001b[39m] :\n\u001b[0;32m     48\u001b[0m     \u001b[39mprint\u001b[39m(\u001b[39m\"\u001b[39m\u001b[39mhello\u001b[39m\u001b[39m\"\u001b[39m)\n\u001b[0;32m     51\u001b[0m \u001b[39m#Check if horizontal \u001b[39;00m\n",
      "\u001b[1;31mIndexError\u001b[0m: list index out of range"
     ]
    }
   ],
   "source": [
    "from collections import Counter\n",
    "\n",
    "# Output all lines in input file (excluding # and empty lines)\n",
    "with open('sample-input.txt') as f_in:\n",
    "    lines = filter(None, (line.rstrip() for line in f_in))\n",
    "    n = 6\n",
    "    m = 6\n",
    "    for line in lines:  \n",
    "        grid = [[0 for x in range(n)] for y in range(m)]  \n",
    "        count = 0\n",
    "        if '#' not in line:\n",
    "            for i in range(m):\n",
    "                for j in range(n):\n",
    "                    grid[i][j] = line[count]\n",
    "                    count+=1\n",
    "            print(\"Initial board configuration: \" + line)\n",
    "            print(\"\")\n",
    "            print(line[0], line[1],line[2], line[3],line[4], line[5])\n",
    "            print(line[6], line[7],line[8], line[9],line[10], line[11])\n",
    "            print(line[12], line[13],line[14], line[15],line[16], line[17])\n",
    "            print(line[18], line[19],line[20], line[21],line[22], line[23])\n",
    "            print(line[24], line[25],line[26], line[27],line[28], line[29])\n",
    "            print(line[30], line[31],line[32], line[33],line[34], line[35])\n",
    "            print('\\n')\n",
    " \n",
    "\n",
    "            print(\"Car fuel available: \")\n",
    "            print(\"\")\n",
    "            \n",
    "            #print(grid[1][3])\n",
    "\n",
    "            #Finding length of each Car \n",
    "            word=''.join(line) #Array to string\n",
    "            \n",
    "            length = {}\n",
    "            for i in word: \n",
    "                if i != '.':\n",
    "                    if i in length: \n",
    "                        length[i]=length[i] + 1\n",
    "                    else: \n",
    "                        length[i] = 1\n",
    "            \n",
    "            print (\"Characters with their length:\\n\",length)  \n",
    "\n",
    "\n"
   ]
  }
 ],
 "metadata": {
  "kernelspec": {
   "display_name": "Python 3.10.7 64-bit",
   "language": "python",
   "name": "python3"
  },
  "language_info": {
   "codemirror_mode": {
    "name": "ipython",
    "version": 3
   },
   "file_extension": ".py",
   "mimetype": "text/x-python",
   "name": "python",
   "nbconvert_exporter": "python",
   "pygments_lexer": "ipython3",
   "version": "3.10.7"
  },
  "orig_nbformat": 4,
  "vscode": {
   "interpreter": {
    "hash": "472b0f61bb235f752a8a823900c0e4d3b657cc8db9ac884581a7b8d01ebddda1"
   }
  }
 },
 "nbformat": 4,
 "nbformat_minor": 2
}

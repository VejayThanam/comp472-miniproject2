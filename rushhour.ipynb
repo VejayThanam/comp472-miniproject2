{
 "cells": [
  {
   "cell_type": "code",
   "execution_count": null,
   "metadata": {},
   "outputs": [],
   "source": [
    "# Output all lines in input file (excluding # and empty lines)\n",
    "with open('sample-input.txt') as f_in:\n",
    "    lines = filter(None, (line.rstrip() for line in f_in))\n",
    "    n = 6\n",
    "    m = 6\n",
    "    for line in lines:  \n",
    "        grid = [[0 for x in range(n)] for y in range(m)]  \n",
    "        count = 0\n",
    "        if '#' not in line:\n",
    "            for i in range(m):\n",
    "                for j in range(n):\n",
    "                    grid[i][j] = line[count]\n",
    "                    count+=1\n",
    "            # print(line[0], line[1],line[2], line[3],line[4], line[5])\n",
    "            # print(line[6], line[7],line[8], line[9],line[10], line[11])\n",
    "            # print(line[12], line[13],line[14], line[15],line[16], line[17])\n",
    "            # print(line[18], line[19],line[20], line[21],line[22], line[23])\n",
    "            # print(line[24], line[25],line[26], line[27],line[28], line[29])\n",
    "            # print(line[30], line[31],line[32], line[33],line[34], line[35])\n",
    "            print('\\n')\n",
    "    \n",
    "            print(grid[1][3])"
   ]
  }
 ],
 "metadata": {
  "kernelspec": {
   "display_name": "Python 3.10.8 64-bit (microsoft store)",
   "language": "python",
   "name": "python3"
  },
  "language_info": {
   "codemirror_mode": {
    "name": "ipython",
    "version": 3
   },
   "file_extension": ".py",
   "mimetype": "text/x-python",
   "name": "python",
   "nbconvert_exporter": "python",
   "pygments_lexer": "ipython3",
   "version": "3.10.8"
  },
  "orig_nbformat": 4,
  "vscode": {
   "interpreter": {
    "hash": "12509c072deed83d5ec68329458b42474c423cd6d6c02b39217d0bd9c8594f7a"
   }
  }
 },
 "nbformat": 4,
 "nbformat_minor": 2
}

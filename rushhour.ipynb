{
 "cells": [
  {
   "cell_type": "code",
   "execution_count": 27,
   "metadata": {},
   "outputs": [
    {
     "name": "stdout",
     "output_type": "stream",
     "text": [
      "B B I J . .\n",
      ". . I J C C\n",
      ". . I A A M\n",
      "G D D K . M\n",
      "G H . K L .\n",
      "G H F F L .\n",
      "\n",
      "\n",
      ". . I . . .\n",
      "B B I . K .\n",
      "G H A A K L\n",
      "G H D D K L\n",
      "G . . J E E\n",
      "F F . J . .\n",
      "\n",
      "\n",
      "J B B C C C\n",
      "J D D . . M\n",
      "J A A L . M\n",
      "F F K L . N\n",
      ". . K G G N\n",
      ". H H . . .\n",
      "\n",
      "\n",
      "B B B . . M\n",
      "C C D D . M\n",
      "A A K L . M\n",
      "J . K L E E\n",
      "J . G G . .\n",
      "J H H H I I\n",
      "\n",
      "\n",
      "I J B B C C\n",
      "I J D D L .\n",
      "I J A A L .\n",
      "E E K . L .\n",
      ". . K F F .\n",
      ". G G H H .\n",
      "\n",
      "\n",
      "B B . G . H\n",
      "E . . G . H\n",
      "E A A G . I\n",
      ". . F C C I\n",
      "D D F . . I\n",
      ". . F . . .\n",
      "\n",
      "\n"
     ]
    }
   ],
   "source": [
    "# Output all lines in input file (excluding # and empty lines)\n",
    "with open('sample-input.txt') as f_in:\n",
    "    lines = filter(None, (line.rstrip() for line in f_in))\n",
    "    for line in lines:\n",
    "        if '#' not in line:\n",
    "            print(line[0], line[1],line[2], line[3],line[4], line[5])\n",
    "            print(line[6], line[7],line[8], line[9],line[10], line[11])\n",
    "            print(line[12], line[13],line[14], line[15],line[16], line[17])\n",
    "            print(line[18], line[19],line[20], line[21],line[22], line[23])\n",
    "            print(line[24], line[25],line[26], line[27],line[28], line[29])\n",
    "            print(line[30], line[31],line[32], line[33],line[34], line[35])\n",
    "            print('\\n')"
   ]
  }
 ],
 "metadata": {
  "kernelspec": {
   "display_name": "Python 3.10.8 64-bit (microsoft store)",
   "language": "python",
   "name": "python3"
  },
  "language_info": {
   "codemirror_mode": {
    "name": "ipython",
    "version": 3
   },
   "file_extension": ".py",
   "mimetype": "text/x-python",
   "name": "python",
   "nbconvert_exporter": "python",
   "pygments_lexer": "ipython3",
   "version": "3.10.8"
  },
  "orig_nbformat": 4,
  "vscode": {
   "interpreter": {
    "hash": "12509c072deed83d5ec68329458b42474c423cd6d6c02b39217d0bd9c8594f7a"
   }
  }
 },
 "nbformat": 4,
 "nbformat_minor": 2
}
